{
 "cells": [
  {
   "cell_type": "code",
   "execution_count": 1,
   "id": "f567faa3",
   "metadata": {},
   "outputs": [],
   "source": [
    "import pandas as pd\n",
    "df = pd.read_csv(\"./emails.csv\")"
   ]
  },
  {
   "cell_type": "code",
   "execution_count": 2,
   "id": "49793d1c",
   "metadata": {},
   "outputs": [],
   "source": [
    "import numpy as np\n",
    "import statsmodels.api as sm\n",
    "import seaborn as sns \n",
    "import matplotlib.pyplot as plt \n",
    "from sklearn.preprocessing import scale, StandardScaler\n",
    "from sklearn.model_selection import train_test_split, GridSearchCV, cross_val_score\n",
    "from sklearn.metrics import confusion_matrix, accuracy_score, mean_squared_error,r2_score, roc_auc_score, roc_curve, classification_report\n",
    "from sklearn.linear_model import LogisticRegression\n",
    "from sklearn.neighbors import KNeighborsClassifier\n",
    "from sklearn.svm import SVC\n",
    "from sklearn.neural_network import MLPClassifier\n",
    "from sklearn.tree import DecisionTreeClassifier\n",
    "from sklearn.ensemble import RandomForestClassifier\n",
    "from sklearn.ensemble import RandomForestRegressor\n",
    "from sklearn.ensemble import GradientBoostingClassifier\n",
    "from xgboost import XGBClassifier\n",
    "\n",
    "\n",
    "\n",
    "from sklearn import metrics\n",
    "import sklearn.metrics as metrics"
   ]
  },
  {
   "cell_type": "code",
   "execution_count": 3,
   "id": "3386c181",
   "metadata": {},
   "outputs": [],
   "source": [
    "##### _uyarı mesajı almamak için_\n",
    "import warnings\n",
    "warnings.filterwarnings(\"ignore\", category=DeprecationWarning)\n",
    "warnings.filterwarnings(\"ignore\", category=FutureWarning)"
   ]
  },
  {
   "cell_type": "code",
   "execution_count": 4,
   "id": "cf699fa1",
   "metadata": {},
   "outputs": [
    {
     "data": {
      "text/html": [
       "<div>\n",
       "<style scoped>\n",
       "    .dataframe tbody tr th:only-of-type {\n",
       "        vertical-align: middle;\n",
       "    }\n",
       "\n",
       "    .dataframe tbody tr th {\n",
       "        vertical-align: top;\n",
       "    }\n",
       "\n",
       "    .dataframe thead th {\n",
       "        text-align: right;\n",
       "    }\n",
       "</style>\n",
       "<table border=\"1\" class=\"dataframe\">\n",
       "  <thead>\n",
       "    <tr style=\"text-align: right;\">\n",
       "      <th></th>\n",
       "      <th>Email No.</th>\n",
       "      <th>the</th>\n",
       "      <th>to</th>\n",
       "      <th>ect</th>\n",
       "      <th>and</th>\n",
       "      <th>for</th>\n",
       "      <th>of</th>\n",
       "      <th>a</th>\n",
       "      <th>you</th>\n",
       "      <th>hou</th>\n",
       "      <th>...</th>\n",
       "      <th>connevey</th>\n",
       "      <th>jay</th>\n",
       "      <th>valued</th>\n",
       "      <th>lay</th>\n",
       "      <th>infrastructure</th>\n",
       "      <th>military</th>\n",
       "      <th>allowing</th>\n",
       "      <th>ff</th>\n",
       "      <th>dry</th>\n",
       "      <th>Prediction</th>\n",
       "    </tr>\n",
       "  </thead>\n",
       "  <tbody>\n",
       "    <tr>\n",
       "      <th>0</th>\n",
       "      <td>Email 1</td>\n",
       "      <td>0</td>\n",
       "      <td>0</td>\n",
       "      <td>1</td>\n",
       "      <td>0</td>\n",
       "      <td>0</td>\n",
       "      <td>0</td>\n",
       "      <td>2</td>\n",
       "      <td>0</td>\n",
       "      <td>0</td>\n",
       "      <td>...</td>\n",
       "      <td>0</td>\n",
       "      <td>0</td>\n",
       "      <td>0</td>\n",
       "      <td>0</td>\n",
       "      <td>0</td>\n",
       "      <td>0</td>\n",
       "      <td>0</td>\n",
       "      <td>0</td>\n",
       "      <td>0</td>\n",
       "      <td>0</td>\n",
       "    </tr>\n",
       "    <tr>\n",
       "      <th>1</th>\n",
       "      <td>Email 2</td>\n",
       "      <td>8</td>\n",
       "      <td>13</td>\n",
       "      <td>24</td>\n",
       "      <td>6</td>\n",
       "      <td>6</td>\n",
       "      <td>2</td>\n",
       "      <td>102</td>\n",
       "      <td>1</td>\n",
       "      <td>27</td>\n",
       "      <td>...</td>\n",
       "      <td>0</td>\n",
       "      <td>0</td>\n",
       "      <td>0</td>\n",
       "      <td>0</td>\n",
       "      <td>0</td>\n",
       "      <td>0</td>\n",
       "      <td>0</td>\n",
       "      <td>1</td>\n",
       "      <td>0</td>\n",
       "      <td>0</td>\n",
       "    </tr>\n",
       "    <tr>\n",
       "      <th>2</th>\n",
       "      <td>Email 3</td>\n",
       "      <td>0</td>\n",
       "      <td>0</td>\n",
       "      <td>1</td>\n",
       "      <td>0</td>\n",
       "      <td>0</td>\n",
       "      <td>0</td>\n",
       "      <td>8</td>\n",
       "      <td>0</td>\n",
       "      <td>0</td>\n",
       "      <td>...</td>\n",
       "      <td>0</td>\n",
       "      <td>0</td>\n",
       "      <td>0</td>\n",
       "      <td>0</td>\n",
       "      <td>0</td>\n",
       "      <td>0</td>\n",
       "      <td>0</td>\n",
       "      <td>0</td>\n",
       "      <td>0</td>\n",
       "      <td>0</td>\n",
       "    </tr>\n",
       "    <tr>\n",
       "      <th>3</th>\n",
       "      <td>Email 4</td>\n",
       "      <td>0</td>\n",
       "      <td>5</td>\n",
       "      <td>22</td>\n",
       "      <td>0</td>\n",
       "      <td>5</td>\n",
       "      <td>1</td>\n",
       "      <td>51</td>\n",
       "      <td>2</td>\n",
       "      <td>10</td>\n",
       "      <td>...</td>\n",
       "      <td>0</td>\n",
       "      <td>0</td>\n",
       "      <td>0</td>\n",
       "      <td>0</td>\n",
       "      <td>0</td>\n",
       "      <td>0</td>\n",
       "      <td>0</td>\n",
       "      <td>0</td>\n",
       "      <td>0</td>\n",
       "      <td>0</td>\n",
       "    </tr>\n",
       "    <tr>\n",
       "      <th>4</th>\n",
       "      <td>Email 5</td>\n",
       "      <td>7</td>\n",
       "      <td>6</td>\n",
       "      <td>17</td>\n",
       "      <td>1</td>\n",
       "      <td>5</td>\n",
       "      <td>2</td>\n",
       "      <td>57</td>\n",
       "      <td>0</td>\n",
       "      <td>9</td>\n",
       "      <td>...</td>\n",
       "      <td>0</td>\n",
       "      <td>0</td>\n",
       "      <td>0</td>\n",
       "      <td>0</td>\n",
       "      <td>0</td>\n",
       "      <td>0</td>\n",
       "      <td>0</td>\n",
       "      <td>1</td>\n",
       "      <td>0</td>\n",
       "      <td>0</td>\n",
       "    </tr>\n",
       "  </tbody>\n",
       "</table>\n",
       "<p>5 rows × 3002 columns</p>\n",
       "</div>"
      ],
      "text/plain": [
       "  Email No.  the  to  ect  and  for  of    a  you  hou  ...  connevey  jay  \\\n",
       "0   Email 1    0   0    1    0    0   0    2    0    0  ...         0    0   \n",
       "1   Email 2    8  13   24    6    6   2  102    1   27  ...         0    0   \n",
       "2   Email 3    0   0    1    0    0   0    8    0    0  ...         0    0   \n",
       "3   Email 4    0   5   22    0    5   1   51    2   10  ...         0    0   \n",
       "4   Email 5    7   6   17    1    5   2   57    0    9  ...         0    0   \n",
       "\n",
       "   valued  lay  infrastructure  military  allowing  ff  dry  Prediction  \n",
       "0       0    0               0         0         0   0    0           0  \n",
       "1       0    0               0         0         0   1    0           0  \n",
       "2       0    0               0         0         0   0    0           0  \n",
       "3       0    0               0         0         0   0    0           0  \n",
       "4       0    0               0         0         0   1    0           0  \n",
       "\n",
       "[5 rows x 3002 columns]"
      ]
     },
     "execution_count": 4,
     "metadata": {},
     "output_type": "execute_result"
    }
   ],
   "source": [
    "df.head(5)"
   ]
  },
  {
   "cell_type": "code",
   "execution_count": 5,
   "id": "d2220408",
   "metadata": {},
   "outputs": [
    {
     "data": {
      "text/html": [
       "<div>\n",
       "<style scoped>\n",
       "    .dataframe tbody tr th:only-of-type {\n",
       "        vertical-align: middle;\n",
       "    }\n",
       "\n",
       "    .dataframe tbody tr th {\n",
       "        vertical-align: top;\n",
       "    }\n",
       "\n",
       "    .dataframe thead th {\n",
       "        text-align: right;\n",
       "    }\n",
       "</style>\n",
       "<table border=\"1\" class=\"dataframe\">\n",
       "  <thead>\n",
       "    <tr style=\"text-align: right;\">\n",
       "      <th></th>\n",
       "      <th>Email No.</th>\n",
       "      <th>the</th>\n",
       "      <th>to</th>\n",
       "      <th>ect</th>\n",
       "      <th>and</th>\n",
       "      <th>for</th>\n",
       "      <th>of</th>\n",
       "      <th>a</th>\n",
       "      <th>you</th>\n",
       "      <th>hou</th>\n",
       "      <th>...</th>\n",
       "      <th>connevey</th>\n",
       "      <th>jay</th>\n",
       "      <th>valued</th>\n",
       "      <th>lay</th>\n",
       "      <th>infrastructure</th>\n",
       "      <th>military</th>\n",
       "      <th>allowing</th>\n",
       "      <th>ff</th>\n",
       "      <th>dry</th>\n",
       "      <th>Prediction</th>\n",
       "    </tr>\n",
       "  </thead>\n",
       "  <tbody>\n",
       "    <tr>\n",
       "      <th>5167</th>\n",
       "      <td>Email 5168</td>\n",
       "      <td>2</td>\n",
       "      <td>2</td>\n",
       "      <td>2</td>\n",
       "      <td>3</td>\n",
       "      <td>0</td>\n",
       "      <td>0</td>\n",
       "      <td>32</td>\n",
       "      <td>0</td>\n",
       "      <td>0</td>\n",
       "      <td>...</td>\n",
       "      <td>0</td>\n",
       "      <td>0</td>\n",
       "      <td>0</td>\n",
       "      <td>0</td>\n",
       "      <td>0</td>\n",
       "      <td>0</td>\n",
       "      <td>0</td>\n",
       "      <td>0</td>\n",
       "      <td>0</td>\n",
       "      <td>0</td>\n",
       "    </tr>\n",
       "    <tr>\n",
       "      <th>5168</th>\n",
       "      <td>Email 5169</td>\n",
       "      <td>35</td>\n",
       "      <td>27</td>\n",
       "      <td>11</td>\n",
       "      <td>2</td>\n",
       "      <td>6</td>\n",
       "      <td>5</td>\n",
       "      <td>151</td>\n",
       "      <td>4</td>\n",
       "      <td>3</td>\n",
       "      <td>...</td>\n",
       "      <td>0</td>\n",
       "      <td>0</td>\n",
       "      <td>0</td>\n",
       "      <td>0</td>\n",
       "      <td>0</td>\n",
       "      <td>0</td>\n",
       "      <td>0</td>\n",
       "      <td>1</td>\n",
       "      <td>0</td>\n",
       "      <td>0</td>\n",
       "    </tr>\n",
       "    <tr>\n",
       "      <th>5169</th>\n",
       "      <td>Email 5170</td>\n",
       "      <td>0</td>\n",
       "      <td>0</td>\n",
       "      <td>1</td>\n",
       "      <td>1</td>\n",
       "      <td>0</td>\n",
       "      <td>0</td>\n",
       "      <td>11</td>\n",
       "      <td>0</td>\n",
       "      <td>0</td>\n",
       "      <td>...</td>\n",
       "      <td>0</td>\n",
       "      <td>0</td>\n",
       "      <td>0</td>\n",
       "      <td>0</td>\n",
       "      <td>0</td>\n",
       "      <td>0</td>\n",
       "      <td>0</td>\n",
       "      <td>0</td>\n",
       "      <td>0</td>\n",
       "      <td>1</td>\n",
       "    </tr>\n",
       "    <tr>\n",
       "      <th>5170</th>\n",
       "      <td>Email 5171</td>\n",
       "      <td>2</td>\n",
       "      <td>7</td>\n",
       "      <td>1</td>\n",
       "      <td>0</td>\n",
       "      <td>2</td>\n",
       "      <td>1</td>\n",
       "      <td>28</td>\n",
       "      <td>2</td>\n",
       "      <td>0</td>\n",
       "      <td>...</td>\n",
       "      <td>0</td>\n",
       "      <td>0</td>\n",
       "      <td>0</td>\n",
       "      <td>0</td>\n",
       "      <td>0</td>\n",
       "      <td>0</td>\n",
       "      <td>0</td>\n",
       "      <td>1</td>\n",
       "      <td>0</td>\n",
       "      <td>1</td>\n",
       "    </tr>\n",
       "    <tr>\n",
       "      <th>5171</th>\n",
       "      <td>Email 5172</td>\n",
       "      <td>22</td>\n",
       "      <td>24</td>\n",
       "      <td>5</td>\n",
       "      <td>1</td>\n",
       "      <td>6</td>\n",
       "      <td>5</td>\n",
       "      <td>148</td>\n",
       "      <td>8</td>\n",
       "      <td>2</td>\n",
       "      <td>...</td>\n",
       "      <td>0</td>\n",
       "      <td>0</td>\n",
       "      <td>0</td>\n",
       "      <td>0</td>\n",
       "      <td>0</td>\n",
       "      <td>0</td>\n",
       "      <td>0</td>\n",
       "      <td>0</td>\n",
       "      <td>0</td>\n",
       "      <td>0</td>\n",
       "    </tr>\n",
       "  </tbody>\n",
       "</table>\n",
       "<p>5 rows × 3002 columns</p>\n",
       "</div>"
      ],
      "text/plain": [
       "       Email No.  the  to  ect  and  for  of    a  you  hou  ...  connevey  \\\n",
       "5167  Email 5168    2   2    2    3    0   0   32    0    0  ...         0   \n",
       "5168  Email 5169   35  27   11    2    6   5  151    4    3  ...         0   \n",
       "5169  Email 5170    0   0    1    1    0   0   11    0    0  ...         0   \n",
       "5170  Email 5171    2   7    1    0    2   1   28    2    0  ...         0   \n",
       "5171  Email 5172   22  24    5    1    6   5  148    8    2  ...         0   \n",
       "\n",
       "      jay  valued  lay  infrastructure  military  allowing  ff  dry  \\\n",
       "5167    0       0    0               0         0         0   0    0   \n",
       "5168    0       0    0               0         0         0   1    0   \n",
       "5169    0       0    0               0         0         0   0    0   \n",
       "5170    0       0    0               0         0         0   1    0   \n",
       "5171    0       0    0               0         0         0   0    0   \n",
       "\n",
       "      Prediction  \n",
       "5167           0  \n",
       "5168           0  \n",
       "5169           1  \n",
       "5170           1  \n",
       "5171           0  \n",
       "\n",
       "[5 rows x 3002 columns]"
      ]
     },
     "execution_count": 5,
     "metadata": {},
     "output_type": "execute_result"
    }
   ],
   "source": [
    "df.tail(5)"
   ]
  },
  {
   "cell_type": "code",
   "execution_count": 6,
   "id": "ab4a80e2",
   "metadata": {
    "scrolled": true
   },
   "outputs": [
    {
     "name": "stdout",
     "output_type": "stream",
     "text": [
      "<class 'pandas.core.frame.DataFrame'>\n",
      "RangeIndex: 5172 entries, 0 to 5171\n",
      "Columns: 3002 entries, Email No. to Prediction\n",
      "dtypes: int64(3001), object(1)\n",
      "memory usage: 118.5+ MB\n"
     ]
    }
   ],
   "source": [
    "df.info()"
   ]
  },
  {
   "cell_type": "code",
   "execution_count": 7,
   "id": "f3332229",
   "metadata": {},
   "outputs": [
    {
     "data": {
      "text/plain": [
       "(5172, 3002)"
      ]
     },
     "execution_count": 7,
     "metadata": {},
     "output_type": "execute_result"
    }
   ],
   "source": [
    "df.shape"
   ]
  },
  {
   "cell_type": "code",
   "execution_count": 8,
   "id": "8428fd84",
   "metadata": {},
   "outputs": [
    {
     "data": {
      "text/plain": [
       "Email No.     object\n",
       "the            int64\n",
       "to             int64\n",
       "ect            int64\n",
       "and            int64\n",
       "               ...  \n",
       "military       int64\n",
       "allowing       int64\n",
       "ff             int64\n",
       "dry            int64\n",
       "Prediction     int64\n",
       "Length: 3002, dtype: object"
      ]
     },
     "execution_count": 8,
     "metadata": {},
     "output_type": "execute_result"
    }
   ],
   "source": [
    "df.dtypes\n"
   ]
  },
  {
   "cell_type": "code",
   "execution_count": 9,
   "id": "3aa8bc0a",
   "metadata": {},
   "outputs": [
    {
     "data": {
      "text/plain": [
       "Index(['the', 'to', 'ect', 'and', 'for', 'of', 'a', 'you', 'hou', 'in',\n",
       "       ...\n",
       "       'connevey', 'jay', 'valued', 'lay', 'infrastructure', 'military',\n",
       "       'allowing', 'ff', 'dry', 'Prediction'],\n",
       "      dtype='object', length=3001)"
      ]
     },
     "execution_count": 9,
     "metadata": {},
     "output_type": "execute_result"
    }
   ],
   "source": [
    "df.describe().columns"
   ]
  },
  {
   "cell_type": "code",
   "execution_count": 10,
   "id": "60f6ab9f",
   "metadata": {},
   "outputs": [
    {
     "data": {
      "text/plain": [
       "False"
      ]
     },
     "execution_count": 10,
     "metadata": {},
     "output_type": "execute_result"
    }
   ],
   "source": [
    "df.isnull().values.any()   # :O\n",
    "    "
   ]
  },
  {
   "cell_type": "code",
   "execution_count": 11,
   "id": "cf9ab401",
   "metadata": {},
   "outputs": [
    {
     "data": {
      "text/plain": [
       "0    3672\n",
       "1    1500\n",
       "Name: Prediction, dtype: int64"
      ]
     },
     "execution_count": 11,
     "metadata": {},
     "output_type": "execute_result"
    }
   ],
   "source": [
    "df[\"Prediction\"].value_counts() # 1 değeri Spam olduğunu, 0 değeri ise Spam olmadığını ifade etmektedir."
   ]
  },
  {
   "cell_type": "code",
   "execution_count": 12,
   "id": "35dc1e83",
   "metadata": {},
   "outputs": [
    {
     "data": {
      "image/png": "[encoded data removed]",
      "text/plain": [
       "<Figure size 640x480 with 1 Axes>"
      ]
     },
     "metadata": {},
     "output_type": "display_data"
    }
   ],
   "source": [
    "sns.boxplot(x=\"Prediction\", y= \"the\",data=df);  "
   ]
  },
  {
   "cell_type": "code",
   "execution_count": 13,
   "id": "8636b781",
   "metadata": {},
   "outputs": [
    {
     "data": {
      "image/png": "[encoded data removed]",
      "text/plain": [
       "<Figure size 640x480 with 1 Axes>"
      ]
     },
     "metadata": {},
     "output_type": "display_data"
    }
   ],
   "source": [
    "sns.boxplot(x=\"Prediction\", y= \"to\",data=df);  "
   ]
  },
  {
   "cell_type": "code",
   "execution_count": 14,
   "id": "7a7d28ae",
   "metadata": {},
   "outputs": [
    {
     "data": {
      "image/png": "[encoded data removed]",
      "text/plain": [
       "<Figure size 640x480 with 1 Axes>"
      ]
     },
     "metadata": {},
     "output_type": "display_data"
    }
   ],
   "source": [
    "sns.boxplot(x=\"Prediction\", y= \"ect\",data=df);  "
   ]
  },
  {
   "cell_type": "code",
   "execution_count": 15,
   "id": "8a1e1235",
   "metadata": {},
   "outputs": [
    {
     "data": {
      "image/png": "[encoded data removed]",
      "text/plain": [
       "<Figure size 640x480 with 1 Axes>"
      ]
     },
     "metadata": {},
     "output_type": "display_data"
    }
   ],
   "source": [
    "sns.boxplot(x=\"Prediction\", y= \"and\",data=df);  "
   ]
  },
  {
   "cell_type": "code",
   "execution_count": 16,
   "id": "9bd413b0",
   "metadata": {},
   "outputs": [
    {
     "data": {
      "image/png": "[encoded data removed]",
      "text/plain": [
       "<Figure size 640x480 with 1 Axes>"
      ]
     },
     "metadata": {},
     "output_type": "display_data"
    }
   ],
   "source": [
    "sns.boxplot(x=\"Prediction\", y= \"for\",data=df);  "
   ]
  },
  {
   "cell_type": "code",
   "execution_count": 17,
   "id": "5f19569d",
   "metadata": {},
   "outputs": [
    {
     "data": {
      "image/png": "[encoded data removed]",
      "text/plain": [
       "<Figure size 640x480 with 1 Axes>"
      ]
     },
     "metadata": {},
     "output_type": "display_data"
    }
   ],
   "source": [
    "sns.boxplot(x=\"Prediction\", y= \"of\",data=df);  "
   ]
  },
  {
   "cell_type": "code",
   "execution_count": 18,
   "id": "956737fa",
   "metadata": {
    "scrolled": true
   },
   "outputs": [
    {
     "data": {
      "text/plain": [
       "<seaborn.axisgrid.FacetGrid at 0x29436f190>"
      ]
     },
     "execution_count": 18,
     "metadata": {},
     "output_type": "execute_result"
    },
    {
     "data": {
      "image/png": "[encoded data removed]",
      "text/plain": [
       "<Figure size 500x500 with 1 Axes>"
      ]
     },
     "metadata": {},
     "output_type": "display_data"
    }
   ],
   "source": [
    "sns.catplot (x=\"the\",y=\"Prediction\", kind=\"violin\",data=df)"
   ]
  },
  {
   "cell_type": "code",
   "execution_count": 19,
   "id": "2a71cd2a",
   "metadata": {},
   "outputs": [],
   "source": [
    "# email numarası olan sütunu uçurdum.\n",
    "df.drop(columns=['Email No.'],inplace=True)"
   ]
  },
  {
   "cell_type": "code",
   "execution_count": 20,
   "id": "7e87839c",
   "metadata": {},
   "outputs": [
    {
     "name": "stderr",
     "output_type": "stream",
     "text": [
      "/var/folders/sp/rfw320zd02bc_75vzf9c15z40000gq/T/ipykernel_1026/3794677811.py:3: UserWarning: \n",
      "\n",
      "`distplot` is a deprecated function and will be removed in seaborn v0.14.0.\n",
      "\n",
      "Please adapt your code to use either `displot` (a figure-level function with\n",
      "similar flexibility) or `histplot` (an axes-level function for histograms).\n",
      "\n",
      "For a guide to updating your code to use the new functions, please see\n",
      "https://gist.github.com/mwaskom/de44147ed2974457ad6372750bbe5751\n",
      "\n",
      "  sns.distplot(df[column])\n",
      "/var/folders/sp/rfw320zd02bc_75vzf9c15z40000gq/T/ipykernel_1026/3794677811.py:3: UserWarning: \n",
      "\n",
      "`distplot` is a deprecated function and will be removed in seaborn v0.14.0.\n",
      "\n",
      "Please adapt your code to use either `displot` (a figure-level function with\n",
      "similar flexibility) or `histplot` (an axes-level function for histograms).\n",
      "\n",
      "For a guide to updating your code to use the new functions, please see\n",
      "https://gist.github.com/mwaskom/de44147ed2974457ad6372750bbe5751\n",
      "\n",
      "  sns.distplot(df[column])\n",
      "/var/folders/sp/rfw320zd02bc_75vzf9c15z40000gq/T/ipykernel_1026/3794677811.py:3: UserWarning: \n",
      "\n",
      "`distplot` is a deprecated function and will be removed in seaborn v0.14.0.\n",
      "\n",
      "Please adapt your code to use either `displot` (a figure-level function with\n",
      "similar flexibility) or `histplot` (an axes-level function for histograms).\n",
      "\n",
      "For a guide to updating your code to use the new functions, please see\n",
      "https://gist.github.com/mwaskom/de44147ed2974457ad6372750bbe5751\n",
      "\n",
      "  sns.distplot(df[column])\n",
      "/var/folders/sp/rfw320zd02bc_75vzf9c15z40000gq/T/ipykernel_1026/3794677811.py:3: UserWarning: \n",
      "\n",
      "`distplot` is a deprecated function and will be removed in seaborn v0.14.0.\n",
      "\n",
      "Please adapt your code to use either `displot` (a figure-level function with\n",
      "similar flexibility) or `histplot` (an axes-level function for histograms).\n",
      "\n",
      "For a guide to updating your code to use the new functions, please see\n",
      "https://gist.github.com/mwaskom/de44147ed2974457ad6372750bbe5751\n",
      "\n",
      "  sns.distplot(df[column])\n",
      "/var/folders/sp/rfw320zd02bc_75vzf9c15z40000gq/T/ipykernel_1026/3794677811.py:3: UserWarning: \n",
      "\n",
      "`distplot` is a deprecated function and will be removed in seaborn v0.14.0.\n",
      "\n",
      "Please adapt your code to use either `displot` (a figure-level function with\n",
      "similar flexibility) or `histplot` (an axes-level function for histograms).\n",
      "\n",
      "For a guide to updating your code to use the new functions, please see\n",
      "https://gist.github.com/mwaskom/de44147ed2974457ad6372750bbe5751\n",
      "\n",
      "  sns.distplot(df[column])\n",
      "/var/folders/sp/rfw320zd02bc_75vzf9c15z40000gq/T/ipykernel_1026/3794677811.py:3: UserWarning: \n",
      "\n",
      "`distplot` is a deprecated function and will be removed in seaborn v0.14.0.\n",
      "\n",
      "Please adapt your code to use either `displot` (a figure-level function with\n",
      "similar flexibility) or `histplot` (an axes-level function for histograms).\n",
      "\n",
      "For a guide to updating your code to use the new functions, please see\n",
      "https://gist.github.com/mwaskom/de44147ed2974457ad6372750bbe5751\n",
      "\n",
      "  sns.distplot(df[column])\n",
      "/var/folders/sp/rfw320zd02bc_75vzf9c15z40000gq/T/ipykernel_1026/3794677811.py:3: UserWarning: \n",
      "\n",
      "`distplot` is a deprecated function and will be removed in seaborn v0.14.0.\n",
      "\n",
      "Please adapt your code to use either `displot` (a figure-level function with\n",
      "similar flexibility) or `histplot` (an axes-level function for histograms).\n",
      "\n",
      "For a guide to updating your code to use the new functions, please see\n",
      "https://gist.github.com/mwaskom/de44147ed2974457ad6372750bbe5751\n",
      "\n",
      "  sns.distplot(df[column])\n",
      "/var/folders/sp/rfw320zd02bc_75vzf9c15z40000gq/T/ipykernel_1026/3794677811.py:3: UserWarning: \n",
      "\n",
      "`distplot` is a deprecated function and will be removed in seaborn v0.14.0.\n",
      "\n",
      "Please adapt your code to use either `displot` (a figure-level function with\n",
      "similar flexibility) or `histplot` (an axes-level function for histograms).\n",
      "\n",
      "For a guide to updating your code to use the new functions, please see\n",
      "https://gist.github.com/mwaskom/de44147ed2974457ad6372750bbe5751\n",
      "\n",
      "  sns.distplot(df[column])\n",
      "/var/folders/sp/rfw320zd02bc_75vzf9c15z40000gq/T/ipykernel_1026/3794677811.py:3: UserWarning: \n",
      "\n",
      "`distplot` is a deprecated function and will be removed in seaborn v0.14.0.\n",
      "\n",
      "Please adapt your code to use either `displot` (a figure-level function with\n",
      "similar flexibility) or `histplot` (an axes-level function for histograms).\n",
      "\n",
      "For a guide to updating your code to use the new functions, please see\n",
      "https://gist.github.com/mwaskom/de44147ed2974457ad6372750bbe5751\n",
      "\n",
      "  sns.distplot(df[column])\n",
      "/var/folders/sp/rfw320zd02bc_75vzf9c15z40000gq/T/ipykernel_1026/3794677811.py:3: UserWarning: \n",
      "\n",
      "`distplot` is a deprecated function and will be removed in seaborn v0.14.0.\n",
      "\n",
      "Please adapt your code to use either `displot` (a figure-level function with\n",
      "similar flexibility) or `histplot` (an axes-level function for histograms).\n",
      "\n",
      "For a guide to updating your code to use the new functions, please see\n",
      "https://gist.github.com/mwaskom/de44147ed2974457ad6372750bbe5751\n",
      "\n",
      "  sns.distplot(df[column])\n"
     ]
    },
    {
     "data": {
      "image/png": "[encoded data removed]",
      "text/plain": [
       "<Figure size 640x480 with 10 Axes>"
      ]
     },
     "metadata": {},
     "output_type": "display_data"
    }
   ],
   "source": [
    "for i, column in enumerate(df.columns[:10]):\n",
    "    plt.subplot(3, 4, i+1)  # 3 satır, 4 sütunlu bir alt grafik düzeni\n",
    "    sns.distplot(df[column])\n",
    "    plt.title(column)\n",
    "\n",
    "plt.tight_layout() \n",
    "plt.show()"
   ]
  },
  {
   "cell_type": "code",
   "execution_count": 21,
   "id": "484077ff",
   "metadata": {},
   "outputs": [],
   "source": [
    "def pie_plot (column_name):\n",
    "    plt.pie(df[column_name].value_counts(),labels = df[column_name].value_counts().index, shadow = True,autopct = \"%1.1f%%\")\n",
    "    plt.show()"
   ]
  },
  {
   "cell_type": "code",
   "execution_count": 22,
   "id": "456c9d13",
   "metadata": {},
   "outputs": [
    {
     "data": {
      "image/png": "[encoded data removed]",
      "text/plain": [
       "<Figure size 640x480 with 1 Axes>"
      ]
     },
     "metadata": {},
     "output_type": "display_data"
    }
   ],
   "source": [
    "pie_plot (\"Prediction\")"
   ]
  },
  {
   "cell_type": "code",
   "execution_count": 23,
   "id": "4017c8db",
   "metadata": {},
   "outputs": [],
   "source": [
    "df1 =df.copy()"
   ]
  },
  {
   "cell_type": "code",
   "execution_count": 24,
   "id": "6d6a2841",
   "metadata": {},
   "outputs": [],
   "source": [
    "y = df1[\"Prediction\"]\n",
    "X = df1.drop([\"Prediction\"], axis = 1) "
   ]
  },
  {
   "cell_type": "code",
   "execution_count": 25,
   "id": "3f2a055f",
   "metadata": {},
   "outputs": [],
   "source": [
    "# Eğitim ve Test Setlerinin Oluşturulması;\n",
    "X_train, X_test, y_train, y_test = train_test_split(X,\n",
    "                                                    y,\n",
    "                                                    test_size = 0.30,\n",
    "                                                    random_state = 42)  "
   ]
  },
  {
   "cell_type": "markdown",
   "id": "ffea1ad8",
   "metadata": {},
   "source": [
    "### SVR Model"
   ]
  },
  {
   "cell_type": "code",
   "execution_count": 26,
   "id": "28c5e07e",
   "metadata": {},
   "outputs": [
    {
     "data": {
      "text/html": [
       "<style>#sk-container-id-1 {color: black;}#sk-container-id-1 pre{padding: 0;}#sk-container-id-1 div.sk-toggleable {background-color: white;}#sk-container-id-1 label.sk-toggleable__label {cursor: pointer;display: block;width: 100%;margin-bottom: 0;padding: 0.3em;box-sizing: border-box;text-align: center;}#sk-container-id-1 label.sk-toggleable__label-arrow:before {content: \"▸\";float: left;margin-right: 0.25em;color: #696969;}#sk-container-id-1 label.sk-toggleable__label-arrow:hover:before {color: black;}#sk-container-id-1 div.sk-estimator:hover label.sk-toggleable__label-arrow:before {color: black;}#sk-container-id-1 div.sk-toggleable__content {max-height: 0;max-width: 0;overflow: hidden;text-align: left;background-color: #f0f8ff;}#sk-container-id-1 div.sk-toggleable__content pre {margin: 0.2em;color: black;border-radius: 0.25em;background-color: #f0f8ff;}#sk-container-id-1 input.sk-toggleable__control:checked~div.sk-toggleable__content {max-height: 200px;max-width: 100%;overflow: auto;}#sk-container-id-1 input.sk-toggleable__control:checked~label.sk-toggleable__label-arrow:before {content: \"▾\";}#sk-container-id-1 div.sk-estimator input.sk-toggleable__control:checked~label.sk-toggleable__label {background-color: #d4ebff;}#sk-container-id-1 div.sk-label input.sk-toggleable__control:checked~label.sk-toggleable__label {background-color: #d4ebff;}#sk-container-id-1 input.sk-hidden--visually {border: 0;clip: rect(1px 1px 1px 1px);clip: rect(1px, 1px, 1px, 1px);height: 1px;margin: -1px;overflow: hidden;padding: 0;position: absolute;width: 1px;}#sk-container-id-1 div.sk-estimator {font-family: monospace;background-color: #f0f8ff;border: 1px dotted black;border-radius: 0.25em;box-sizing: border-box;margin-bottom: 0.5em;}#sk-container-id-1 div.sk-estimator:hover {background-color: #d4ebff;}#sk-container-id-1 div.sk-parallel-item::after {content: \"\";width: 100%;border-bottom: 1px solid gray;flex-grow: 1;}#sk-container-id-1 div.sk-label:hover label.sk-toggleable__label {background-color: #d4ebff;}#sk-container-id-1 div.sk-serial::before {content: \"\";position: absolute;border-left: 1px solid gray;box-sizing: border-box;top: 0;bottom: 0;left: 50%;z-index: 0;}#sk-container-id-1 div.sk-serial {display: flex;flex-direction: column;align-items: center;background-color: white;padding-right: 0.2em;padding-left: 0.2em;position: relative;}#sk-container-id-1 div.sk-item {position: relative;z-index: 1;}#sk-container-id-1 div.sk-parallel {display: flex;align-items: stretch;justify-content: center;background-color: white;position: relative;}#sk-container-id-1 div.sk-item::before, #sk-container-id-1 div.sk-parallel-item::before {content: \"\";position: absolute;border-left: 1px solid gray;box-sizing: border-box;top: 0;bottom: 0;left: 50%;z-index: -1;}#sk-container-id-1 div.sk-parallel-item {display: flex;flex-direction: column;z-index: 1;position: relative;background-color: white;}#sk-container-id-1 div.sk-parallel-item:first-child::after {align-self: flex-end;width: 50%;}#sk-container-id-1 div.sk-parallel-item:last-child::after {align-self: flex-start;width: 50%;}#sk-container-id-1 div.sk-parallel-item:only-child::after {width: 0;}#sk-container-id-1 div.sk-dashed-wrapped {border: 1px dashed gray;margin: 0 0.4em 0.5em 0.4em;box-sizing: border-box;padding-bottom: 0.4em;background-color: white;}#sk-container-id-1 div.sk-label label {font-family: monospace;font-weight: bold;display: inline-block;line-height: 1.2em;}#sk-container-id-1 div.sk-label-container {text-align: center;}#sk-container-id-1 div.sk-container {/* jupyter's `normalize.less` sets `[hidden] { display: none; }` but bootstrap.min.css set `[hidden] { display: none !important; }` so we also need the `!important` here to be able to override the default hidden behavior on the sphinx rendered scikit-learn.org. See: https://github.com/scikit-learn/scikit-learn/issues/21755 */display: inline-block !important;position: relative;}#sk-container-id-1 div.sk-text-repr-fallback {display: none;}</style><div id=\"sk-container-id-1\" class=\"sk-top-container\"><div class=\"sk-text-repr-fallback\"><pre>SVC()</pre><b>In a Jupyter environment, please rerun this cell to show the HTML representation or trust the notebook. <br />On GitHub, the HTML representation is unable to render, please try loading this page with nbviewer.org.</b></div><div class=\"sk-container\" hidden><div class=\"sk-item\"><div class=\"sk-estimator sk-toggleable\"><input class=\"sk-toggleable__control sk-hidden--visually\" id=\"sk-estimator-id-1\" type=\"checkbox\" checked><label for=\"sk-estimator-id-1\" class=\"sk-toggleable__label sk-toggleable__label-arrow\">SVC</label><div class=\"sk-toggleable__content\"><pre>SVC()</pre></div></div></div></div></div>"
      ],
      "text/plain": [
       "SVC()"
      ]
     },
     "execution_count": 26,
     "metadata": {},
     "output_type": "execute_result"
    }
   ],
   "source": [
    "svm = SVC()\n",
    "svm.fit(X_train, y_train)"
   ]
  },
  {
   "cell_type": "code",
   "execution_count": 27,
   "id": "6452bdcb",
   "metadata": {},
   "outputs": [],
   "source": [
    "svm_params = {\"C\":[20,35,50,70,90,110]} # büyük C değerleri, sınıflar arasındaki hataların cezalandırılmasını arttırarak modelin eğitim verilerinin daha fazla uymasını sağlar.Ancak çok büyük C değerleri, underfittige sebebiyet verir.\n",
    "svm_cv_model = GridSearchCV(estimator=svm, param_grid=svm_params, cv = 5 ).fit(X_train,y_train)"
   ]
  },
  {
   "cell_type": "code",
   "execution_count": 28,
   "id": "fa93e054",
   "metadata": {},
   "outputs": [
    {
     "data": {
      "text/plain": [
       "{'C': 110}"
      ]
     },
     "execution_count": 28,
     "metadata": {},
     "output_type": "execute_result"
    }
   ],
   "source": [
    "svm_cv_model.best_params_"
   ]
  },
  {
   "cell_type": "code",
   "execution_count": 29,
   "id": "ee3e8a7b",
   "metadata": {},
   "outputs": [],
   "source": [
    "svm_model = SVC(C=90).fit(X_train, y_train)"
   ]
  },
  {
   "cell_type": "code",
   "execution_count": 30,
   "id": "a557ea68",
   "metadata": {},
   "outputs": [
    {
     "name": "stdout",
     "output_type": "stream",
     "text": [
      "MAE ortalama mutlak hata : 0.04059278350515464\n",
      "\n",
      "\n",
      "MSE ortalama hata karesi : 0.04059278350515464\n",
      "\n",
      "\n",
      "RMSE ortalama karekök sapması : 0.20147650856900076\n",
      "\n",
      "\n",
      "R2 Score (Değişkenlik oranı :) 0.8041091087581516\n"
     ]
    }
   ],
   "source": [
    "y_pred_svm = svm_model.predict(X_test)\n",
    "print('MAE ortalama mutlak hata :', metrics.mean_absolute_error(y_test,y_pred_svm))\n",
    "print(\"\\n\")\n",
    "print('MSE ortalama hata karesi :',metrics.mean_squared_error(y_test, y_pred_svm))\n",
    "print(\"\\n\")\n",
    "print('RMSE ortalama karekök sapması :', np.sqrt(metrics.mean_absolute_error(y_test, y_pred_svm)))\n",
    "print(\"\\n\")\n",
    "print('R2 Score (Değişkenlik oranı :)', metrics.r2_score(y_test, y_pred_svm))"
   ]
  },
  {
   "cell_type": "markdown",
   "id": "9ed93e23",
   "metadata": {},
   "source": [
    "### Ramdom Forest Model"
   ]
  },
  {
   "cell_type": "code",
   "execution_count": 31,
   "id": "fbe26015",
   "metadata": {},
   "outputs": [],
   "source": [
    "rf_model = RandomForestClassifier(random_state = 42).fit(X_train,y_train)\n",
    "rf_params = {\"max_depth\": [70,85],\n",
    "             \"max_features\": [40,50],\n",
    "             \"n_estimators\": [500,750],\n",
    "             \"min_samples_split\": [2,5]}"
   ]
  },
  {
   "cell_type": "code",
   "execution_count": 32,
   "id": "0e1939ef",
   "metadata": {},
   "outputs": [
    {
     "name": "stdout",
     "output_type": "stream",
     "text": [
      "Fitting 5 folds for each of 16 candidates, totalling 80 fits\n"
     ]
    }
   ],
   "source": [
    "rf_cv_model = GridSearchCV(rf_model, rf_params, cv = 5, n_jobs=-1, verbose = 2).fit(X_train,y_train)"
   ]
  },
  {
   "cell_type": "code",
   "execution_count": 33,
   "id": "98b77615",
   "metadata": {},
   "outputs": [
    {
     "data": {
      "text/plain": [
       "{'max_depth': 70,\n",
       " 'max_features': 50,\n",
       " 'min_samples_split': 2,\n",
       " 'n_estimators': 500}"
      ]
     },
     "execution_count": 33,
     "metadata": {},
     "output_type": "execute_result"
    }
   ],
   "source": [
    "rf_cv_model.best_params_"
   ]
  },
  {
   "cell_type": "code",
   "execution_count": 34,
   "id": "806de9a2",
   "metadata": {},
   "outputs": [],
   "source": [
    "rf_model = RandomForestClassifier(random_state = 42,\n",
    "                                 max_depth =70,\n",
    "                                 max_features =50,\n",
    "                                 min_samples_split = 2,\n",
    "                                 n_estimators = 500)\n",
    "rf_tuned = rf_model.fit(X_train, y_train)\n"
   ]
  },
  {
   "cell_type": "code",
   "execution_count": 35,
   "id": "1a8a8829",
   "metadata": {},
   "outputs": [
    {
     "name": "stdout",
     "output_type": "stream",
     "text": [
      "MAE ortalama mutlak hata : 0.02384020618556701\n",
      "\n",
      "\n",
      "MSE ortalama hata karesi : 0.02384020618556701\n",
      "\n",
      "\n",
      "RMSE ortalama karekök sapması : 0.15440274021391917\n",
      "\n",
      "\n",
      "R2 Score (Değişkenlik oranı :) 0.8849529686357398\n"
     ]
    }
   ],
   "source": [
    "y_pred_rf = rf_tuned.predict(X_test)\n",
    "print('MAE ortalama mutlak hata :', metrics.mean_absolute_error(y_test,y_pred_rf))\n",
    "print(\"\\n\")\n",
    "print('MSE ortalama hata karesi :',metrics.mean_squared_error(y_test, y_pred_rf))\n",
    "print(\"\\n\")\n",
    "print('RMSE ortalama karekök sapması :', np.sqrt(metrics.mean_absolute_error(y_test, y_pred_rf)))\n",
    "print(\"\\n\")\n",
    "print('R2 Score (Değişkenlik oranı :)', metrics.r2_score(y_test, y_pred_rf))"
   ]
  },
  {
   "cell_type": "markdown",
   "id": "a915b655",
   "metadata": {},
   "source": [
    "#### GBM (Gradient Boosting Machines)"
   ]
  },
  {
   "cell_type": "code",
   "execution_count": 36,
   "id": "a938e082",
   "metadata": {},
   "outputs": [],
   "source": [
    "gbm_model = GradientBoostingClassifier().fit(X_train, y_train)"
   ]
  },
  {
   "cell_type": "code",
   "execution_count": 37,
   "id": "841a8999",
   "metadata": {},
   "outputs": [
    {
     "name": "stdout",
     "output_type": "stream",
     "text": [
      "MAE ortalama mutlak hata : 0.03414948453608247\n",
      "\n",
      "\n",
      "MSE ortalama hata karesi : 0.03414948453608247\n",
      "\n",
      "\n",
      "RMSE ortalama karekök sapması : 0.18479579144580774\n",
      "\n",
      "\n",
      "R2 Score (Değişkenlik oranı :) 0.8352029010187625\n",
      "CPU times: user 14.6 ms, sys: 3.43 ms, total: 18 ms\n",
      "Wall time: 17.1 ms\n"
     ]
    }
   ],
   "source": [
    "%%time\n",
    "y_pred_gbm = gbm_model.predict(X_test)\n",
    "print('MAE ortalama mutlak hata :', metrics.mean_absolute_error(y_test,y_pred_gbm))\n",
    "print(\"\\n\")\n",
    "print('MSE ortalama hata karesi :',metrics.mean_squared_error(y_test, y_pred_gbm))\n",
    "print(\"\\n\")\n",
    "print('RMSE ortalama karekök sapması :', np.sqrt(metrics.mean_absolute_error(y_test, y_pred_gbm)))\n",
    "print(\"\\n\")\n",
    "print('R2 Score (Değişkenlik oranı :)', metrics.r2_score(y_test, y_pred_gbm))"
   ]
  },
  {
   "cell_type": "markdown",
   "id": "06d3d39f",
   "metadata": {},
   "source": [
    "#### XGB"
   ]
  },
  {
   "cell_type": "code",
   "execution_count": 38,
   "id": "6be5af83",
   "metadata": {},
   "outputs": [],
   "source": [
    "xgb = XGBClassifier()"
   ]
  },
  {
   "cell_type": "code",
   "execution_count": 39,
   "id": "3a0d1349",
   "metadata": {},
   "outputs": [],
   "source": [
    "xgb_params = {\"learning_rate\" : [0.1,0.01, 0.5], # overfittigi engellemek adına, öğrenme oranı hiperparametresi\n",
    "              \"max_depth\": [20,30],\n",
    "              \"n_estimators\": [500], #kullanılacak olan ağaç sayısını ifade eder.\n",
    "              \"colsample_bytree\": [0.4,0.7]} # oluşturulan ağaçlardaki değişkenlerden alınacak olan alt küme oranı"
   ]
  },
  {
   "cell_type": "code",
   "execution_count": 40,
   "id": "9ac8f583",
   "metadata": {
    "collapsed": true
   },
   "outputs": [
    {
     "name": "stdout",
     "output_type": "stream",
     "text": [
      "Fitting 5 folds for each of 12 candidates, totalling 60 fits\n",
      "[CV] END max_depth=70, max_features=40, min_samples_split=2, n_estimators=500; total time=   4.4s\n",
      "[CV] END max_depth=70, max_features=40, min_samples_split=5, n_estimators=500; total time=   4.4s\n",
      "[CV] END max_depth=70, max_features=50, min_samples_split=2, n_estimators=500; total time=   5.2s\n",
      "[CV] END max_depth=70, max_features=50, min_samples_split=5, n_estimators=750; total time=   7.6s\n",
      "[CV] END max_depth=85, max_features=40, min_samples_split=2, n_estimators=750; total time=   6.8s\n",
      "[CV] END max_depth=85, max_features=50, min_samples_split=2, n_estimators=750; total time=   8.3s\n",
      "[CV] END max_depth=85, max_features=50, min_samples_split=5, n_estimators=750; total time=   5.6s\n",
      "[CV] END colsample_bytree=0.4, learning_rate=0.1, max_depth=30, n_estimators=500; total time=  17.9s\n"
     ]
    },
    {
     "name": "stderr",
     "output_type": "stream",
     "text": [
      "/Users/utkuozkan/anaconda3/lib/python3.11/site-packages/joblib/externals/loky/process_executor.py:700: UserWarning: A worker stopped while some jobs were given to the executor. This can be caused by a too short worker timeout or by a memory leak.\n",
      "  warnings.warn(\n"
     ]
    },
    {
     "name": "stdout",
     "output_type": "stream",
     "text": [
      "[CV] END max_depth=70, max_features=40, min_samples_split=2, n_estimators=500; total time=   4.6s\n",
      "[CV] END max_depth=70, max_features=40, min_samples_split=5, n_estimators=750; total time=   6.6s\n",
      "[CV] END max_depth=70, max_features=50, min_samples_split=5, n_estimators=500; total time=   5.1s\n",
      "[CV] END max_depth=70, max_features=50, min_samples_split=5, n_estimators=750; total time=   7.5s\n",
      "[CV] END max_depth=85, max_features=40, min_samples_split=5, n_estimators=500; total time=   4.5s\n",
      "[CV] END max_depth=85, max_features=50, min_samples_split=2, n_estimators=500; total time=   5.5s\n",
      "[CV] END max_depth=85, max_features=50, min_samples_split=5, n_estimators=750; total time=   6.7s\n",
      "[CV] END colsample_bytree=0.4, learning_rate=0.1, max_depth=20, n_estimators=500; total time=  18.0s\n",
      "[CV] END max_depth=70, max_features=40, min_samples_split=2, n_estimators=500; total time=   4.6s\n",
      "[CV] END max_depth=70, max_features=40, min_samples_split=5, n_estimators=750; total time=   6.4s\n",
      "[CV] END max_depth=70, max_features=50, min_samples_split=2, n_estimators=750; total time=   8.0s\n",
      "[CV] END max_depth=85, max_features=40, min_samples_split=2, n_estimators=750; total time=   6.8s\n",
      "[CV] END max_depth=85, max_features=40, min_samples_split=5, n_estimators=750; total time=   6.8s\n",
      "[CV] END max_depth=85, max_features=50, min_samples_split=5, n_estimators=500; total time=   5.2s\n",
      "[CV] END colsample_bytree=0.4, learning_rate=0.1, max_depth=20, n_estimators=500; total time=  18.0s\n",
      "[CV] END max_depth=70, max_features=40, min_samples_split=2, n_estimators=750; total time=   6.8s\n",
      "[CV] END max_depth=70, max_features=50, min_samples_split=2, n_estimators=500; total time=   5.1s\n",
      "[CV] END max_depth=70, max_features=50, min_samples_split=5, n_estimators=500; total time=   5.2s\n",
      "[CV] END max_depth=85, max_features=40, min_samples_split=2, n_estimators=500; total time=   4.4s\n",
      "[CV] END max_depth=85, max_features=40, min_samples_split=2, n_estimators=750; total time=   6.9s\n",
      "[CV] END max_depth=85, max_features=50, min_samples_split=2, n_estimators=750; total time=   8.0s\n",
      "[CV] END max_depth=85, max_features=50, min_samples_split=5, n_estimators=750; total time=   5.7s\n",
      "[CV] END colsample_bytree=0.4, learning_rate=0.1, max_depth=30, n_estimators=500; total time=  18.1s\n",
      "[CV] END max_depth=70, max_features=40, min_samples_split=2, n_estimators=500; total time=   4.5s\n",
      "[CV] END max_depth=70, max_features=40, min_samples_split=5, n_estimators=500; total time=   4.4s\n",
      "[CV] END max_depth=70, max_features=50, min_samples_split=2, n_estimators=750; total time=   7.9s\n",
      "[CV] END max_depth=70, max_features=50, min_samples_split=5, n_estimators=750; total time=   7.6s\n",
      "[CV] END max_depth=85, max_features=40, min_samples_split=5, n_estimators=750; total time=   6.8s\n",
      "[CV] END max_depth=85, max_features=50, min_samples_split=2, n_estimators=750; total time=   7.8s\n",
      "[CV] END colsample_bytree=0.4, learning_rate=0.1, max_depth=20, n_estimators=500; total time=  18.1s\n",
      "[CV] END max_depth=70, max_features=40, min_samples_split=2, n_estimators=750; total time=   6.9s\n",
      "[CV] END max_depth=70, max_features=50, min_samples_split=2, n_estimators=500; total time=   5.2s\n",
      "[CV] END max_depth=70, max_features=50, min_samples_split=5, n_estimators=500; total time=   5.1s\n",
      "[CV] END max_depth=85, max_features=40, min_samples_split=2, n_estimators=500; total time=   4.5s\n",
      "[CV] END max_depth=85, max_features=40, min_samples_split=5, n_estimators=500; total time=   4.4s\n",
      "[CV] END max_depth=85, max_features=50, min_samples_split=2, n_estimators=500; total time=   5.4s\n",
      "[CV] END max_depth=85, max_features=50, min_samples_split=2, n_estimators=750; total time=   7.7s\n",
      "[CV] END colsample_bytree=0.4, learning_rate=0.1, max_depth=30, n_estimators=500; total time=  18.1s\n",
      "[CV] END max_depth=70, max_features=40, min_samples_split=2, n_estimators=750; total time=   6.8s\n",
      "[CV] END max_depth=70, max_features=50, min_samples_split=2, n_estimators=500; total time=   5.3s\n",
      "[CV] END max_depth=70, max_features=50, min_samples_split=5, n_estimators=500; total time=   5.2s\n",
      "[CV] END max_depth=85, max_features=40, min_samples_split=2, n_estimators=500; total time=   4.5s\n",
      "[CV] END max_depth=85, max_features=40, min_samples_split=5, n_estimators=500; total time=   4.4s\n",
      "[CV] END max_depth=85, max_features=50, min_samples_split=2, n_estimators=500; total time=   5.5s\n",
      "[CV] END max_depth=85, max_features=50, min_samples_split=5, n_estimators=500; total time=   5.3s\n",
      "[CV] END max_depth=85, max_features=50, min_samples_split=5, n_estimators=750; total time=   5.6s\n",
      "[CV] END colsample_bytree=0.4, learning_rate=0.1, max_depth=20, n_estimators=500; total time=  18.2s\n",
      "[CV] END max_depth=70, max_features=40, min_samples_split=5, n_estimators=500; total time=   4.3s\n",
      "[CV] END max_depth=70, max_features=40, min_samples_split=5, n_estimators=500; total time=   4.4s\n",
      "[CV] END max_depth=70, max_features=50, min_samples_split=2, n_estimators=750; total time=   8.0s\n",
      "[CV] END max_depth=70, max_features=50, min_samples_split=5, n_estimators=750; total time=   7.6s\n",
      "[CV] END max_depth=85, max_features=40, min_samples_split=5, n_estimators=750; total time=   6.9s\n",
      "[CV] END max_depth=85, max_features=50, min_samples_split=2, n_estimators=750; total time=   7.7s\n",
      "[CV] END colsample_bytree=0.4, learning_rate=0.1, max_depth=30, n_estimators=500; total time=  18.2s\n",
      "[CV] END max_depth=70, max_features=40, min_samples_split=2, n_estimators=500; total time=   4.5s\n",
      "[CV] END max_depth=70, max_features=40, min_samples_split=5, n_estimators=750; total time=   6.6s\n",
      "[CV] END max_depth=70, max_features=50, min_samples_split=2, n_estimators=750; total time=   8.0s\n",
      "[CV] END max_depth=85, max_features=40, min_samples_split=2, n_estimators=750; total time=   6.7s\n",
      "[CV] END max_depth=85, max_features=40, min_samples_split=5, n_estimators=750; total time=   6.7s\n",
      "[CV] END max_depth=85, max_features=50, min_samples_split=5, n_estimators=500; total time=   5.3s\n",
      "[CV] END colsample_bytree=0.4, learning_rate=0.01, max_depth=20, n_estimators=500; total time=  22.4s\n",
      "[CV] END max_depth=70, max_features=40, min_samples_split=2, n_estimators=750; total time=   6.8s\n",
      "[CV] END max_depth=70, max_features=50, min_samples_split=2, n_estimators=500; total time=   5.1s\n",
      "[CV] END max_depth=70, max_features=50, min_samples_split=5, n_estimators=500; total time=   5.1s\n",
      "[CV] END max_depth=85, max_features=40, min_samples_split=2, n_estimators=500; total time=   4.6s\n",
      "[CV] END max_depth=85, max_features=40, min_samples_split=5, n_estimators=500; total time=   4.3s\n",
      "[CV] END max_depth=85, max_features=40, min_samples_split=5, n_estimators=750; total time=   6.7s\n",
      "[CV] END max_depth=85, max_features=50, min_samples_split=5, n_estimators=500; total time=   5.2s\n",
      "[CV] END colsample_bytree=0.4, learning_rate=0.01, max_depth=20, n_estimators=500; total time=  22.6s\n",
      "[CV] END max_depth=70, max_features=40, min_samples_split=2, n_estimators=750; total time=   6.6s\n",
      "[CV] END max_depth=70, max_features=40, min_samples_split=5, n_estimators=750; total time=   6.7s\n",
      "[CV] END max_depth=70, max_features=50, min_samples_split=5, n_estimators=750; total time=   7.7s\n",
      "[CV] END max_depth=85, max_features=40, min_samples_split=2, n_estimators=750; total time=   6.8s\n",
      "[CV] END max_depth=85, max_features=50, min_samples_split=2, n_estimators=500; total time=   5.4s\n",
      "[CV] END max_depth=85, max_features=50, min_samples_split=5, n_estimators=500; total time=   5.0s\n",
      "[CV] END colsample_bytree=0.4, learning_rate=0.1, max_depth=20, n_estimators=500; total time=  18.0s\n",
      "[CV] END colsample_bytree=0.4, learning_rate=0.01, max_depth=20, n_estimators=500; total time=  22.7s\n",
      "[CV] END max_depth=70, max_features=40, min_samples_split=5, n_estimators=500; total time=   4.4s\n",
      "[CV] END max_depth=70, max_features=40, min_samples_split=5, n_estimators=750; total time=   6.5s\n",
      "[CV] END max_depth=70, max_features=50, min_samples_split=2, n_estimators=750; total time=   7.9s\n",
      "[CV] END max_depth=85, max_features=40, min_samples_split=2, n_estimators=500; total time=   4.6s\n",
      "[CV] END max_depth=85, max_features=40, min_samples_split=5, n_estimators=500; total time=   4.4s\n",
      "[CV] END max_depth=85, max_features=50, min_samples_split=2, n_estimators=500; total time=   5.4s\n",
      "[CV] END max_depth=85, max_features=50, min_samples_split=5, n_estimators=750; total time=   7.0s\n",
      "[CV] END colsample_bytree=0.4, learning_rate=0.1, max_depth=30, n_estimators=500; total time=  18.1s\n",
      "[CV] END colsample_bytree=0.4, learning_rate=0.01, max_depth=20, n_estimators=500; total time=  23.2s\n"
     ]
    }
   ],
   "source": [
    "xgb_cv_model = GridSearchCV(xgb, xgb_params, cv = 5, n_jobs = -1, verbose = 2). fit(X_train, y_train)"
   ]
  },
  {
   "cell_type": "code",
   "execution_count": 41,
   "id": "c6271683",
   "metadata": {},
   "outputs": [
    {
     "data": {
      "text/plain": [
       "{'colsample_bytree': 0.4,\n",
       " 'learning_rate': 0.01,\n",
       " 'max_depth': 30,\n",
       " 'n_estimators': 500}"
      ]
     },
     "execution_count": 41,
     "metadata": {},
     "output_type": "execute_result"
    }
   ],
   "source": [
    "xgb_cv_model.best_params_"
   ]
  },
  {
   "cell_type": "code",
   "execution_count": 42,
   "id": "f7efb4db",
   "metadata": {},
   "outputs": [],
   "source": [
    "xgb_model = XGBClassifier(colsample_bytree = 0.4,\n",
    "                        learning_rate = 0.01,\n",
    "                        max_depth = 30,\n",
    "                        n_estimators = 500).fit(X_train, y_train)"
   ]
  },
  {
   "cell_type": "code",
   "execution_count": 43,
   "id": "9ee702f0",
   "metadata": {},
   "outputs": [
    {
     "name": "stdout",
     "output_type": "stream",
     "text": [
      "MAE ortalama mutlak hata : 0.023195876288659795\n",
      "\n",
      "\n",
      "MSE ortalama hata karesi : 0.023195876288659795\n",
      "\n",
      "\n",
      "RMSE ortalama karekök sapması : 0.15230192477004287\n",
      "\n",
      "\n",
      "R2 Score (Değişkenlik oranı :) 0.8880623478618009\n",
      "CPU times: user 378 ms, sys: 341 ms, total: 719 ms\n",
      "Wall time: 102 ms\n"
     ]
    }
   ],
   "source": [
    "%%time\n",
    "y_pred_xgb = xgb_model.predict(X_test)\n",
    "print('MAE ortalama mutlak hata :', metrics.mean_absolute_error(y_test,y_pred_xgb))\n",
    "print(\"\\n\")\n",
    "print('MSE ortalama hata karesi :',metrics.mean_squared_error(y_test, y_pred_xgb))\n",
    "print(\"\\n\")\n",
    "print('RMSE ortalama karekök sapması :', np.sqrt(metrics.mean_absolute_error(y_test, y_pred_xgb)))\n",
    "print(\"\\n\")\n",
    "print('R2 Score (Değişkenlik oranı :)', metrics.r2_score(y_test, y_pred_xgb))"
   ]
  },
  {
   "cell_type": "code",
   "execution_count": 44,
   "id": "1cbca900",
   "metadata": {},
   "outputs": [
    {
     "data": {
      "image/png": "[encoded data removed]",
      "text/plain": [
       "<Figure size 640x480 with 1 Axes>"
      ]
     },
     "metadata": {},
     "output_type": "display_data"
    },
    {
     "name": "stdout",
     "output_type": "stream",
     "text": [
      "[CV] END colsample_bytree=0.4, learning_rate=0.5, max_depth=20, n_estimators=500; total time=  15.7s\n",
      "[CV] END colsample_bytree=0.4, learning_rate=0.5, max_depth=30, n_estimators=500; total time=  15.2s\n",
      "[CV] END colsample_bytree=0.7, learning_rate=0.1, max_depth=30, n_estimators=500; total time=  18.0s\n",
      "[CV] END colsample_bytree=0.7, learning_rate=0.5, max_depth=20, n_estimators=500; total time=  15.3s\n",
      "[CV] END colsample_bytree=0.4, learning_rate=0.5, max_depth=20, n_estimators=500; total time=  15.9s\n",
      "[CV] END colsample_bytree=0.4, learning_rate=0.5, max_depth=30, n_estimators=500; total time=  15.0s\n",
      "[CV] END colsample_bytree=0.7, learning_rate=0.1, max_depth=30, n_estimators=500; total time=  18.1s\n",
      "[CV] END colsample_bytree=0.7, learning_rate=0.5, max_depth=20, n_estimators=500; total time=  15.4s\n",
      "[CV] END colsample_bytree=0.4, learning_rate=0.5, max_depth=20, n_estimators=500; total time=  16.0s\n",
      "[CV] END colsample_bytree=0.4, learning_rate=0.5, max_depth=30, n_estimators=500; total time=  15.1s\n",
      "[CV] END colsample_bytree=0.7, learning_rate=0.1, max_depth=30, n_estimators=500; total time=  18.0s\n",
      "[CV] END colsample_bytree=0.7, learning_rate=0.01, max_depth=30, n_estimators=500; total time=  23.0s\n",
      "[CV] END colsample_bytree=0.4, learning_rate=0.5, max_depth=20, n_estimators=500; total time=  15.6s\n",
      "[CV] END colsample_bytree=0.4, learning_rate=0.5, max_depth=20, n_estimators=500; total time=  15.4s\n",
      "[CV] END colsample_bytree=0.7, learning_rate=0.1, max_depth=30, n_estimators=500; total time=  18.1s\n",
      "[CV] END colsample_bytree=0.7, learning_rate=0.01, max_depth=30, n_estimators=500; total time=  23.1s\n",
      "[CV] END colsample_bytree=0.4, learning_rate=0.01, max_depth=20, n_estimators=500; total time=  23.0s\n",
      "[CV] END colsample_bytree=0.7, learning_rate=0.1, max_depth=20, n_estimators=500; total time=  17.4s\n",
      "[CV] END colsample_bytree=0.7, learning_rate=0.01, max_depth=20, n_estimators=500; total time=  23.6s\n",
      "[CV] END colsample_bytree=0.7, learning_rate=0.5, max_depth=20, n_estimators=500; total time=  13.5s\n",
      "[CV] END colsample_bytree=0.4, learning_rate=0.01, max_depth=30, n_estimators=500; total time=  23.2s\n",
      "[CV] END colsample_bytree=0.7, learning_rate=0.1, max_depth=20, n_estimators=500; total time=  17.6s\n",
      "[CV] END colsample_bytree=0.7, learning_rate=0.01, max_depth=20, n_estimators=500; total time=  23.6s\n",
      "[CV] END colsample_bytree=0.7, learning_rate=0.5, max_depth=20, n_estimators=500; total time=  13.6s\n",
      "[CV] END colsample_bytree=0.4, learning_rate=0.01, max_depth=30, n_estimators=500; total time=  23.0s\n",
      "[CV] END colsample_bytree=0.7, learning_rate=0.1, max_depth=20, n_estimators=500; total time=  17.6s\n",
      "[CV] END colsample_bytree=0.7, learning_rate=0.01, max_depth=20, n_estimators=500; total time=  23.7s\n",
      "[CV] END colsample_bytree=0.7, learning_rate=0.5, max_depth=30, n_estimators=500; total time=  13.4s\n",
      "[CV] END colsample_bytree=0.4, learning_rate=0.01, max_depth=30, n_estimators=500; total time=  23.4s\n",
      "[CV] END colsample_bytree=0.7, learning_rate=0.1, max_depth=30, n_estimators=500; total time=  17.6s\n",
      "[CV] END colsample_bytree=0.7, learning_rate=0.01, max_depth=30, n_estimators=500; total time=  23.3s\n",
      "[CV] END colsample_bytree=0.7, learning_rate=0.5, max_depth=30, n_estimators=500; total time=  13.3s\n",
      "[CV] END colsample_bytree=0.4, learning_rate=0.5, max_depth=30, n_estimators=500; total time=  18.0s\n",
      "[CV] END colsample_bytree=0.7, learning_rate=0.01, max_depth=20, n_estimators=500; total time=  23.8s\n",
      "[CV] END colsample_bytree=0.7, learning_rate=0.5, max_depth=20, n_estimators=500; total time=  13.6s\n",
      "[CV] END colsample_bytree=0.4, learning_rate=0.01, max_depth=30, n_estimators=500; total time=  22.7s\n",
      "[CV] END colsample_bytree=0.7, learning_rate=0.1, max_depth=20, n_estimators=500; total time=  17.9s\n",
      "[CV] END colsample_bytree=0.7, learning_rate=0.01, max_depth=20, n_estimators=500; total time=  23.6s\n",
      "[CV] END colsample_bytree=0.7, learning_rate=0.5, max_depth=30, n_estimators=500; total time=  13.5s\n",
      "[CV] END colsample_bytree=0.4, learning_rate=0.01, max_depth=30, n_estimators=500; total time=  23.6s\n",
      "[CV] END colsample_bytree=0.7, learning_rate=0.1, max_depth=20, n_estimators=500; total time=  17.5s\n",
      "[CV] END colsample_bytree=0.7, learning_rate=0.01, max_depth=30, n_estimators=500; total time=  24.0s\n",
      "[CV] END colsample_bytree=0.7, learning_rate=0.5, max_depth=30, n_estimators=500; total time=  13.4s\n",
      "[CV] END colsample_bytree=0.4, learning_rate=0.5, max_depth=30, n_estimators=500; total time=  18.1s\n",
      "[CV] END colsample_bytree=0.7, learning_rate=0.01, max_depth=30, n_estimators=500; total time=  24.1s\n",
      "[CV] END colsample_bytree=0.7, learning_rate=0.5, max_depth=30, n_estimators=500; total time=  13.2s\n"
     ]
    }
   ],
   "source": [
    "svm_model_metrics = metrics.r2_score(y_test, y_pred_svm)\n",
    "rf_tuned_metrics = metrics.r2_score(y_test, y_pred_rf)\n",
    "gbm_model_metrics = metrics.r2_score(y_test, y_pred_gbm)\n",
    "xgb_model_metrics = metrics.r2_score(y_test, y_pred_xgb)\n",
    "\n",
    "models = ['SVM ', 'Random Forest', 'Gradient Boosting', 'XGBoost']\n",
    "r2_scores = [svm_model_metrics, rf_tuned_metrics, gbm_model_metrics, xgb_model_metrics]\n",
    "\n",
    "# Çubuk grafik oluşturma\n",
    "plt.bar(models, r2_scores, color=['blue', 'red', 'orange', 'green'])\n",
    "plt.xlabel('Modeller', fontweight='bold', fontsize=15)\n",
    "plt.ylabel('R2 Score', fontweight='bold', fontsize=15)\n",
    "plt.title('R2 Değerine Göre Modeller', fontweight='bold', fontsize=15)\n",
    "\n",
    "# Grafik gösterme\n",
    "plt.show()"
   ]
  },
  {
   "cell_type": "code",
   "execution_count": null,
   "id": "1a34e195",
   "metadata": {},
   "outputs": [],
   "source": []
  }
 ],
 "metadata": {
  "kernelspec": {
   "display_name": "Python 3 (ipykernel)",
   "language": "python",
   "name": "python3"
  },
  "language_info": {
   "codemirror_mode": {
    "name": "ipython",
    "version": 3
   },
   "file_extension": ".py",
   "mimetype": "text/x-python",
   "name": "python",
   "nbconvert_exporter": "python",
   "pygments_lexer": "ipython3",
   "version": "3.11.4"
  }
 },
 "nbformat": 4,
 "nbformat_minor": 5
}
